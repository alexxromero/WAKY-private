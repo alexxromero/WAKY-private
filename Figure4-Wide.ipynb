{
 "cells": [
  {
   "cell_type": "code",
   "execution_count": 1,
   "metadata": {},
   "outputs": [],
   "source": [
    "# -- Dependencies --\n",
    "import sys\n",
    "import numpy as np \n",
    "import pandas as pd \n",
    "import kwakpriv \n",
    "import pandas as pd\n",
    "\n",
    "from w_transform import HaarTransform, InvHaarTransform\n",
    "from plottingtools import _BinData, _findmin, _findmax\n",
    "from plottingtools import _NewColorMap, _NSigmaFilter\n",
    "\n",
    "import numpy as np\n",
    "import matplotlib.pyplot as plt\n",
    "import matplotlib.gridspec as gridspec\n",
    "from matplotlib.colors import Normalize, LogNorm\n",
    "from matplotlib.colorbar import ColorbarBase\n",
    "from matplotlib import cm"
   ]
  },
  {
   "cell_type": "code",
   "execution_count": 2,
   "metadata": {},
   "outputs": [],
   "source": [
    "example_dir = \"/Users/alex/Desktop/WAKY-private/examples/XYSH/\""
   ]
  },
  {
   "cell_type": "code",
   "execution_count": 3,
   "metadata": {},
   "outputs": [],
   "source": [
    "File_name = example_dir + \"wide.csv\"\n",
    "File_dframe = pd.read_csv(File_name)"
   ]
  },
  {
   "cell_type": "code",
   "execution_count": 4,
   "metadata": {},
   "outputs": [
    {
     "data": {
      "text/plain": [
       "Index(['Mgg [GeV]', 'Nevents', 'sigma', 'hypothesis', 'generating_function'], dtype='object')"
      ]
     },
     "execution_count": 4,
     "metadata": {},
     "output_type": "execute_result"
    }
   ],
   "source": [
    "File_dframe.keys()"
   ]
  },
  {
   "cell_type": "code",
   "execution_count": 5,
   "metadata": {},
   "outputs": [],
   "source": [
    "Nevents = np.asarray(File_dframe['Nevents'].values, dtype=int) # The number of events must be integer-type\n",
    "Hypothesis = np.asarray(File_dframe['hypothesis'].values, dtype=float)\n",
    "GeneratingFunction = np.asarray(File_dframe['generating_function'].values, dtype=float)\n",
    "MggValues = np.asarray(File_dframe['Mgg [GeV]'].values, dtype=int)\n",
    "\n",
    "# Optional:\n",
    "# Separate the \"Signal\" region (first 64 bins) from the \"overflow\" region (last 64 bins).\n",
    "Nbins = 64 \n",
    "\n",
    "data_signal = Nevents[:Nbins]\n",
    "data_overflow = np.sum(Nevents[Nbins:])\n",
    "\n",
    "hypo_signal = Hypothesis[:Nbins]\n",
    "hypo_overflow = np.sum(Hypothesis[Nbins:])\n",
    "\n",
    "genfunc_signal = GeneratingFunction[:Nbins]\n",
    "genfunc_overflow = np.sum(GeneratingFunction[Nbins:])\n",
    "\n",
    "MggValues_signal = MggValues[:Nbins]\n",
    "MggValues_overflow = np.sum(MggValues[Nbins:])\n"
   ]
  },
  {
   "cell_type": "code",
   "execution_count": 6,
   "metadata": {},
   "outputs": [],
   "source": [
    "Output_dir=None\n",
    "extr_nsets = kwakpriv.nsets(data_signal, hypo_signal, nsets=1*10**4,\n",
    "                        seed=123,\n",
    "                        extrapolate=False,\n",
    "                        fastGaussian=False,\n",
    "                        outputdir=Output_dir)"
   ]
  },
  {
   "cell_type": "code",
   "execution_count": 7,
   "metadata": {},
   "outputs": [],
   "source": [
    "Level = extr_nsets.Level\n",
    "Histogram = extr_nsets.Histogram\n",
    "Nsigma = extr_nsets.Nsigma \n",
    "NsigmaFixedRes = extr_nsets.NsigmaFixedRes\n",
    "\n",
    "# If fastGaussian is False\n",
    "#PlessX = extr_nsets.PlessX \n",
    "#PeqX = extr_nsets.PeqX\n",
    "\n",
    "# If fastGaussian is False AND extrapolate is true\n",
    "#Nsigma_fit = extr_nsets.Nsigma_fit\n",
    "#PlessX_fit = extr_nsets.PlessX_fit\n",
    "#PeqX_fit = extr_nsets.PeqX_fit\n",
    "#NsigmaFixedRes_fit = extr_nsets.NsigmaFixedRes_fit"
   ]
  },
  {
   "cell_type": "code",
   "execution_count": 8,
   "metadata": {},
   "outputs": [],
   "source": [
    "def Fig4_narrow(nsigma_percent=1):\n",
    "    data = data_signal \n",
    "    hypothesis = hypo_signal\n",
    "    nsigma = Nsigma\n",
    "    generating_function = genfunc_signal\n",
    "    nsigma_min = None\n",
    "    nsigma_colorcode=False\n",
    "    title=\"Wide\"\n",
    "    titlesize=18\n",
    "    xlabel=None\n",
    "    textsize=15\n",
    "    figsize=(7,9)\n",
    "    ticksize=14\n",
    "    labelpos=-.14\n",
    "    ypad=.3\n",
    "    outputfile='Fig4_Wide'\n",
    "    \n",
    "    data_color='#0782B0'\n",
    "    nsigma_color='#54B959'\n",
    "    \n",
    "    nsigCcoeffs = nsigma\n",
    "    Level = len(nsigCcoeffs)-1\n",
    "\n",
    "    data_hist, _, data_center, data_width = _BinData(data, bins=2**(Level))\n",
    "    back_hist, _, back_center, back_width = _BinData(hypothesis, bins=2**(Level))\n",
    "\n",
    "    cut = str(nsigma_percent*100) + '%'\n",
    "\n",
    "    DeltaCoeff = _NSigmaFilter(data, hypothesis, nsigma, nsigma_min, nsigma_percent)\n",
    "    \n",
    "    ReconstructedData = InvHaarTransform(DeltaCoeff, normalize=False)\n",
    "    RecData = ReconstructedData\n",
    "\n",
    "    nrows = Level+2\n",
    "    ratio = [1.5]\n",
    "    ratio += [1]*(Level+1)\n",
    "    \n",
    "    fig = plt.figure(figsize=figsize)\n",
    "    gs = gridspec.GridSpec(ncols=1, nrows=nrows,\n",
    "                           height_ratios=ratio,\n",
    "                           hspace=0)\n",
    "    axs = [fig.add_subplot(gs[i,0]) for i in range(nrows)]\n",
    "    \n",
    "    # Fill out top panel\n",
    "    axs[0].bar(data_center, data_hist, align='center',\n",
    "               width=data_width, color=data_color, label=\"Data\")\n",
    "    axs[0].tick_params(axis='y', bottom=False, labelbottom=False, labelsize=ticksize)\n",
    "    axs[0].tick_params(axis='x', labelbottom=False)\n",
    "    axs[0].legend(edgecolor=\"black\", fancybox=False, fontsize=textsize,\n",
    "                  handlelength=0, handletextpad=0)\n",
    "    axs[0].set_yscale('log')\n",
    "    \n",
    "    generating_function = np.divide(generating_function, np.sqrt(hypothesis))\n",
    "    signal_hist, _, signal_center, signal_width = _BinData(generating_function, bins=2**(Level))\n",
    "    #axs[1].plot(signal_center, signal_hist, color='red', label=\"Generating Function\")\n",
    "    \n",
    "    RecData = np.divide(RecData, np.sqrt(hypothesis))\n",
    "    axs[1].plot(data_center, RecData, 'o', markersize=3, color='#E67E22', label='{}'.format(cut))\n",
    "    axs[1].set_ylim(bottom=min(RecData)-ypad, top=max(RecData)+ypad)\n",
    "    axs[1].tick_params(axis='y', bottom=False, labelbottom=False, labelsize=ticksize)\n",
    "    axs[1].tick_params(axis='x', labelbottom=False)\n",
    "    axs[1].plot(range(len(data_center)), np.zeros_like(RecData), color='black', linewidth=0.5)\n",
    "    axs[1].set_yscale('linear')\n",
    "    axs[1].legend(edgecolor=\"black\", fancybox=False, fontsize=textsize,\n",
    "                 handletextpad=0.0, handlelength=0, markerscale=0)\n",
    "    \n",
    "    coeffs_min = _findmin(nsigma[:Level]) # Use to set the min ylim of the plots\n",
    "    coeffs_max = _findmax(nsigma[:Level]) # Use to set the max ylim of the plots\n",
    "\n",
    "    cmap = _NewColorMap()\n",
    "    sig_max = _findmax(np.absolute(nsigma[:Level]))\n",
    "    norm = Normalize(vmin=0, vmax=sig_max)\n",
    "    \n",
    "    for l in range(Level):\n",
    "        bins = 2**(Level-l-1)\n",
    "        hist, edges, center, width = _BinData(nsigma[l], bins=bins)\n",
    "        midLeft = (center-edges[:-1])/2.0\n",
    "        LeftCenter = edges[:-1]+midLeft\n",
    "        midRight = (edges[1:]-center)/2.0\n",
    "        RightCenter = center+midRight\n",
    "        \n",
    "        norm_points = norm(np.absolute(nsigma[l]))\n",
    "        color_points = [cmap(i) for i in norm_points]\n",
    "        axs[l+2].bar(LeftCenter, hist, align='center', width=width/2.0,\n",
    "                     color=color_points)\n",
    "        axs[l+2].bar(RightCenter, hist, align='center', width=width/2.0,\n",
    "                     color=color_points, alpha=0.8)\n",
    "        \n",
    "        axs[l+2].set_ylim(coeffs_min-ypad, coeffs_max+ypad)\n",
    "        #axs[l+2].plot(range(bins), np.zeros(bins), color='black', linewidth=0.5)\n",
    "        axs[l+2].plot(edges, np.zeros_like(edges), color='black', linewidth=0.5)\n",
    "        axs[l+2].tick_params(axis='y', bottom=False, labelbottom=False, labelsize=ticksize)\n",
    "        axs[l+2].tick_params(axis='x', labelbottom=False)\n",
    "        lev = Level-l-1\n",
    "        axs[l+2].text(x=labelpos, y=.66, s=r'$\\ell={%.1i}$'%(lev+1), fontsize=textsize,\n",
    "                      #bbox={'facecolor': 'white', 'alpha': 0.5, 'pad': 5},\n",
    "                      transform=axs[l+2].transAxes,\n",
    "                      rotation=90)\n",
    "        \n",
    "        \n",
    "    axs[-1].tick_params(axis='x', labelbottom=True, labelsize=ticksize, pad=10)\n",
    "    \n",
    "    ticks=np.linspace(edges[0], edges[-1], 2**(Level-1))\n",
    "    major_ticks=[]\n",
    "    minor_ticks=[]\n",
    "    for i, tick in enumerate(ticks):\n",
    "        if i%4==0:\n",
    "            major_ticks.append(tick)\n",
    "        else:\n",
    "            minor_ticks.append(tick)\n",
    "    \n",
    "    axs[-1].set_xticks(major_ticks)\n",
    "    axs[-1].tick_params(axis='x', which='major', length=8)\n",
    "    \n",
    "    axs[-1].set_xticks(minor_ticks, minor=True)\n",
    "    axs[-1].tick_params(axis='x', which='minor', length=5)\n",
    "    \n",
    "    labels = []\n",
    "    for i, lab in enumerate(MggValues_signal):\n",
    "        if i%8==0:\n",
    "            labels.append(MggValues_signal[i])\n",
    "    axs[-1].set_xticklabels(labels=labels)\n",
    "    \n",
    "    fig.text(x=0.46, y=.050, s=r'$[GeV]$', fontsize=textsize)\n",
    "        \n",
    "    cbar_axs = fig.add_axes([0.93, 0.15, 0.02, 0.7]) # colorbar axis\n",
    "    cbar_axs.tick_params(axis='y', labelsize=ticksize)\n",
    "    cbar = ColorbarBase(cbar_axs, cmap=cmap, norm=norm)\n",
    "    \n",
    "    fig.text(x=0.93, y=.86, s=r'$N\\sigma$', fontsize=textsize)\n",
    "        \n",
    "    fig.suptitle(title, fontsize=titlesize, y=0.92)\n",
    "    fig.text(x=0.5, y=0.1, s=xlabel, fontsize=textsize)\n",
    "        \n",
    "    plt.savefig(outputfile, bbox_inches='tight', format='pdf')\n",
    "    plt.show()\n",
    "        "
   ]
  },
  {
   "cell_type": "code",
   "execution_count": 9,
   "metadata": {},
   "outputs": [
    {
     "data": {
      "image/png": "[encoded data removed]",
      "text/plain": [
       "<Figure size 504x648 with 9 Axes>"
      ]
     },
     "metadata": {
      "needs_background": "light"
     },
     "output_type": "display_data"
    }
   ],
   "source": [
    "r_percent = 10\n",
    "Fig4_narrow(nsigma_percent=r_percent*0.01)"
   ]
  },
  {
   "cell_type": "code",
   "execution_count": null,
   "metadata": {},
   "outputs": [],
   "source": []
  },
  {
   "cell_type": "code",
   "execution_count": null,
   "metadata": {},
   "outputs": [],
   "source": []
  },
  {
   "cell_type": "code",
   "execution_count": null,
   "metadata": {},
   "outputs": [],
   "source": []
  },
  {
   "cell_type": "code",
   "execution_count": null,
   "metadata": {},
   "outputs": [],
   "source": []
  }
 ],
 "metadata": {
  "kernelspec": {
   "display_name": "Python 3",
   "language": "python",
   "name": "python3"
  },
  "language_info": {
   "codemirror_mode": {
    "name": "ipython",
    "version": 3
   },
   "file_extension": ".py",
   "mimetype": "text/x-python",
   "name": "python",
   "nbconvert_exporter": "python",
   "pygments_lexer": "ipython3",
   "version": "3.7.3"
  }
 },
 "nbformat": 4,
 "nbformat_minor": 2
}
